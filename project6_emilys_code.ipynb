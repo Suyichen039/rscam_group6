{
 "cells": [
  {
   "cell_type": "code",
   "execution_count": 10,
   "metadata": {},
   "outputs": [],
   "source": [
    "import numpy as np\n",
    "import matplotlib.pyplot as plt\n",
    "import random"
   ]
  },
  {
   "cell_type": "markdown",
   "metadata": {},
   "source": [
    "<img src=\"ben_system.png\"> "
   ]
  },
  {
   "cell_type": "code",
   "execution_count": 11,
   "metadata": {},
   "outputs": [],
   "source": [
    "def phi_LJ(r,sigma,alpha=1):\n",
    "    #defualt argument alpha\n",
    "    phi = np.power((sigma/r),-12) - np.power((sigma/r),-6)\n",
    "    \n",
    "    return alpha*phi"
   ]
  },
  {
   "cell_type": "code",
   "execution_count": 12,
   "metadata": {},
   "outputs": [],
   "source": [
    "def phi_spring(r,r0,k=1):\n",
    "    #default argument k\n",
    "    return 0.5*k*((r-r0)**2)"
   ]
  },
  {
   "cell_type": "code",
   "execution_count": 18,
   "metadata": {},
   "outputs": [],
   "source": [
    "def U_LJ(qi,qj):\n",
    "    N = len(q)\n",
    "    U = np.zeros(())\n",
    "    for i in range(1,N-1):\n",
    "        U_temp = []\n",
    "        for j in range(i+1,N):\n",
    "            U_temp.append(phi_LJ(abs(np.linalg(qi-qj))))\n",
    "        U.append(np.sum(U_temp))\n",
    "    return np.sum(U)"
   ]
  },
  {
   "cell_type": "code",
   "execution_count": 14,
   "metadata": {},
   "outputs": [],
   "source": [
    "def U_spring(qi):\n",
    "    U = np.zeros(len(qi))\n",
    "    for i in range(1,len(qi)):\n",
    "        U[i] = phi_spring(qi[i+1],qi[i])\n",
    "    return np.sum(U)  "
   ]
  },
  {
   "cell_type": "code",
   "execution_count": 15,
   "metadata": {},
   "outputs": [],
   "source": [
    "def U(q):\n",
    "    return U_spring(q) + U_LJ(q[0],q[1])"
   ]
  },
  {
   "cell_type": "code",
   "execution_count": 16,
   "metadata": {},
   "outputs": [],
   "source": [
    "def T(p,m=1):\n",
    "    #default argument m\n",
    "    N = len(p)\n",
    "    T = np.zeros(N)\n",
    "    for i in range(1,N):\n",
    "        N[i] = (np.linalg.norm(p))**2 / (2*m)\n",
    "    return np.sum(T)"
   ]
  },
  {
   "cell_type": "code",
   "execution_count": 17,
   "metadata": {},
   "outputs": [],
   "source": [
    "def H(q,p):\n",
    "    return T(p) + U(q)"
   ]
  },
  {
   "cell_type": "code",
   "execution_count": null,
   "metadata": {},
   "outputs": [],
   "source": []
  }
 ],
 "metadata": {
  "kernelspec": {
   "display_name": "Python 3",
   "language": "python",
   "name": "python3"
  },
  "language_info": {
   "codemirror_mode": {
    "name": "ipython",
    "version": 3
   },
   "file_extension": ".py",
   "mimetype": "text/x-python",
   "name": "python",
   "nbconvert_exporter": "python",
   "pygments_lexer": "ipython3",
   "version": "3.7.3"
  }
 },
 "nbformat": 4,
 "nbformat_minor": 2
}
